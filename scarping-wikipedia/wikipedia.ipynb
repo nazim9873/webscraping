{
 "cells": [
  {
   "attachments": {},
   "cell_type": "markdown",
   "metadata": {},
   "source": [
    "## Famous personalities in history on wikipedia"
   ]
  },
  {
   "attachments": {},
   "cell_type": "markdown",
   "metadata": {},
   "source": [
    "#### Outline\n",
    "- we will scrape through the website wikipedia , url - https://en.wikipedia.org/wiki/Wikipedia:Vital_articles\n",
    "- we will get a list of people, for each person we will describe there personal details like born, died, area, description, image-url etc.\n",
    "- convert it to csv file.\n",
    "\n"
   ]
  },
  {
   "cell_type": "code",
   "execution_count": 113,
   "metadata": {},
   "outputs": [],
   "source": [
    "! pip install requests --quiet\n",
    "! pip install pandas --quiet\n",
    "! pip install beautifulsoup4 --upgrade --quiet\n",
    "import pandas as pd\n",
    "import requests\n",
    "from bs4 import BeautifulSoup\n"
   ]
  },
  {
   "cell_type": "code",
   "execution_count": 114,
   "metadata": {},
   "outputs": [
    {
     "name": "stdout",
     "output_type": "stream",
     "text": [
      "200\n"
     ]
    },
    {
     "data": {
      "text/plain": [
       "946615"
      ]
     },
     "execution_count": 114,
     "metadata": {},
     "output_type": "execute_result"
    }
   ],
   "source": [
    "\n",
    "resource_url = \"https://en.wikipedia.org/wiki/Wikipedia:Vital_articles\"\n",
    "\n",
    "response = requests.get(resource_url)\n",
    "print(response.status_code)\n",
    "len(response.text) # chars"
   ]
  },
  {
   "cell_type": "code",
   "execution_count": 115,
   "metadata": {},
   "outputs": [
    {
     "data": {
      "text/plain": [
       "'<!DOCTYPE html>\\n<html class=\"client-nojs vector-feature-language-in-header-enabled vector-feature-la'"
      ]
     },
     "execution_count": 115,
     "metadata": {},
     "output_type": "execute_result"
    }
   ],
   "source": [
    "content = response.text\n",
    "content[:100]"
   ]
  },
  {
   "cell_type": "code",
   "execution_count": 117,
   "metadata": {},
   "outputs": [
    {
     "data": {
      "text/plain": [
       "bs4.BeautifulSoup"
      ]
     },
     "execution_count": 117,
     "metadata": {},
     "output_type": "execute_result"
    }
   ],
   "source": [
    "doc = BeautifulSoup(content, 'html.parser')\n",
    "type(doc)"
   ]
  },
  {
   "cell_type": "code",
   "execution_count": 118,
   "metadata": {},
   "outputs": [
    {
     "data": {
      "text/plain": [
       "['Hammurabi',\n",
       " 'Hatshepsut',\n",
       " 'Ramesses II',\n",
       " 'Cyrus the Great',\n",
       " 'Alexander the Great']"
      ]
     },
     "execution_count": 118,
     "metadata": {},
     "output_type": "execute_result"
    }
   ],
   "source": [
    "tags = doc.find_all('table', {'class':'multicol'})\n",
    "a_tags = tags[0].find_all('a', _class=\"\")\n",
    "\n",
    "names = []\n",
    "for tag in a_tags:\n",
    "    if tag.text !=\"\":\n",
    "        names.append(tag.text)\n",
    "\n",
    "names[:5]"
   ]
  },
  {
   "cell_type": "code",
   "execution_count": 119,
   "metadata": {},
   "outputs": [
    {
     "data": {
      "text/plain": [
       "['https://en.wikipedia.org/wiki/Hammurabi',\n",
       " 'https://en.wikipedia.org/wiki/Hatshepsut',\n",
       " 'https://en.wikipedia.org/wiki/Ramesses_II',\n",
       " 'https://en.wikipedia.org/wiki/Cyrus_the_Great',\n",
       " 'https://en.wikipedia.org/wiki/Alexander_the_Great']"
      ]
     },
     "execution_count": 119,
     "metadata": {},
     "output_type": "execute_result"
    }
   ],
   "source": [
    "people_url = []\n",
    "\n",
    "for tag in a_tags:\n",
    "    if tag.text !=\"\":\n",
    "        people_url.append(\"https://en.wikipedia.org\"+tag['href'])\n",
    "\n",
    "people_url[:5]"
   ]
  },
  {
   "cell_type": "code",
   "execution_count": 120,
   "metadata": {},
   "outputs": [
    {
     "data": {
      "text/html": [
       "<div>\n",
       "<style scoped>\n",
       "    .dataframe tbody tr th:only-of-type {\n",
       "        vertical-align: middle;\n",
       "    }\n",
       "\n",
       "    .dataframe tbody tr th {\n",
       "        vertical-align: top;\n",
       "    }\n",
       "\n",
       "    .dataframe thead th {\n",
       "        text-align: right;\n",
       "    }\n",
       "</style>\n",
       "<table border=\"1\" class=\"dataframe\">\n",
       "  <thead>\n",
       "    <tr style=\"text-align: right;\">\n",
       "      <th></th>\n",
       "      <th>names</th>\n",
       "      <th>url</th>\n",
       "    </tr>\n",
       "  </thead>\n",
       "  <tbody>\n",
       "    <tr>\n",
       "      <th>0</th>\n",
       "      <td>Hammurabi</td>\n",
       "      <td>https://en.wikipedia.org/wiki/Hammurabi</td>\n",
       "    </tr>\n",
       "    <tr>\n",
       "      <th>1</th>\n",
       "      <td>Hatshepsut</td>\n",
       "      <td>https://en.wikipedia.org/wiki/Hatshepsut</td>\n",
       "    </tr>\n",
       "    <tr>\n",
       "      <th>2</th>\n",
       "      <td>Ramesses II</td>\n",
       "      <td>https://en.wikipedia.org/wiki/Ramesses_II</td>\n",
       "    </tr>\n",
       "    <tr>\n",
       "      <th>3</th>\n",
       "      <td>Cyrus the Great</td>\n",
       "      <td>https://en.wikipedia.org/wiki/Cyrus_the_Great</td>\n",
       "    </tr>\n",
       "    <tr>\n",
       "      <th>4</th>\n",
       "      <td>Alexander the Great</td>\n",
       "      <td>https://en.wikipedia.org/wiki/Alexander_the_Great</td>\n",
       "    </tr>\n",
       "  </tbody>\n",
       "</table>\n",
       "</div>"
      ],
      "text/plain": [
       "                 names                                                url\n",
       "0            Hammurabi            https://en.wikipedia.org/wiki/Hammurabi\n",
       "1           Hatshepsut           https://en.wikipedia.org/wiki/Hatshepsut\n",
       "2          Ramesses II          https://en.wikipedia.org/wiki/Ramesses_II\n",
       "3      Cyrus the Great      https://en.wikipedia.org/wiki/Cyrus_the_Great\n",
       "4  Alexander the Great  https://en.wikipedia.org/wiki/Alexander_the_Great"
      ]
     },
     "execution_count": 120,
     "metadata": {},
     "output_type": "execute_result"
    }
   ],
   "source": [
    "people_df = pd.DataFrame({'names':names, 'url':people_url})\n",
    "people_df.head()"
   ]
  },
  {
   "cell_type": "code",
   "execution_count": 122,
   "metadata": {},
   "outputs": [],
   "source": [
    "def get_page(detail_url):\n",
    "    response = requests.get(detail_url)\n",
    "    detail_doc = BeautifulSoup(response.text, 'html.parser')\n",
    "    return detail_doc"
   ]
  },
  {
   "cell_type": "code",
   "execution_count": 123,
   "metadata": {},
   "outputs": [],
   "source": [
    "\n",
    "def get_description(detail_doc):\n",
    "    table_tag = detail_doc.find_all('table')\n",
    "    first_table = table_tag[0]\n",
    "    tr_tags = first_table.find_all('tr')\n",
    "    description = \"\"\n",
    "    for tr_tag in tr_tags:\n",
    "        th = tr_tag.find('th')\n",
    "        td = tr_tag.find('td')\n",
    "        if th != None and td != None:\n",
    "            description += str(th.text) + \" : \" +  str(td.text) + \", \"\n",
    "\n",
    "    return description\n"
   ]
  },
  {
   "cell_type": "code",
   "execution_count": 139,
   "metadata": {},
   "outputs": [],
   "source": [
    "def get_image(detail_doc):\n",
    "    td_tag = detail_doc.find('td', {'class':\"infobox-image\"})\n",
    "    if td_tag != None:\n",
    "        a_tag = td_tag.find('a')\n",
    "        if a_tag != None:\n",
    "            image_url = \"https://en.wikipedia.org\"+ a_tag['href']\n",
    "    else :\n",
    "        image_url = \"\"\n",
    "    return image_url\n"
   ]
  },
  {
   "cell_type": "code",
   "execution_count": 141,
   "metadata": {},
   "outputs": [],
   "source": [
    "description_list = []\n",
    "image_url_list = []\n",
    "for index, row in people_df.iterrows():\n",
    "    detail_url = row[\"url\"]\n",
    "    detail_doc = get_page(detail_url)\n",
    "    description_list.append(get_description(detail_doc))\n",
    "    image_url_list.append(get_image(detail_doc))"
   ]
  },
  {
   "cell_type": "code",
   "execution_count": 143,
   "metadata": {},
   "outputs": [],
   "source": [
    "people_df['image'] = image_url_list\n",
    "people_df['description'] = description_list\n",
    "people_df.to_csv('famous_personalities.csv', index=None)\n"
   ]
  },
  {
   "cell_type": "code",
   "execution_count": 158,
   "metadata": {},
   "outputs": [
    {
     "data": {
      "text/html": [
       "<div>\n",
       "<style scoped>\n",
       "    .dataframe tbody tr th:only-of-type {\n",
       "        vertical-align: middle;\n",
       "    }\n",
       "\n",
       "    .dataframe tbody tr th {\n",
       "        vertical-align: top;\n",
       "    }\n",
       "\n",
       "    .dataframe thead th {\n",
       "        text-align: right;\n",
       "    }\n",
       "</style>\n",
       "<table border=\"1\" class=\"dataframe\">\n",
       "  <thead>\n",
       "    <tr style=\"text-align: right;\">\n",
       "      <th></th>\n",
       "      <th>names</th>\n",
       "      <th>url</th>\n",
       "      <th>image</th>\n",
       "      <th>description</th>\n",
       "    </tr>\n",
       "  </thead>\n",
       "  <tbody>\n",
       "    <tr>\n",
       "      <th>0</th>\n",
       "      <td>Hammurabi</td>\n",
       "      <td>https://en.wikipedia.org/wiki/Hammurabi</td>\n",
       "      <td>https://en.wikipedia.org/wiki/File:F0182_Louvr...</td>\n",
       "      <td>Reign : c. 1792 – c. 1750 BC (MC), Predecessor...</td>\n",
       "    </tr>\n",
       "    <tr>\n",
       "      <th>1</th>\n",
       "      <td>Hatshepsut</td>\n",
       "      <td>https://en.wikipedia.org/wiki/Hatshepsut</td>\n",
       "      <td>https://en.wikipedia.org/wiki/File:Seated_Stat...</td>\n",
       "      <td>Reign : c. 1478/9 – 1458 BC, Predecessor : Thu...</td>\n",
       "    </tr>\n",
       "    <tr>\n",
       "      <th>2</th>\n",
       "      <td>Ramesses II</td>\n",
       "      <td>https://en.wikipedia.org/wiki/Ramesses_II</td>\n",
       "      <td>https://en.wikipedia.org/wiki/File:Ramses_II_B...</td>\n",
       "      <td>Reign : 1279–1213 BC, Predecessor : Seti I, Su...</td>\n",
       "    </tr>\n",
       "    <tr>\n",
       "      <th>3</th>\n",
       "      <td>Cyrus the Great</td>\n",
       "      <td>https://en.wikipedia.org/wiki/Cyrus_the_Great</td>\n",
       "      <td>https://en.wikipedia.org/wiki/File:Cyrus_II_(T...</td>\n",
       "      <td>Reign : 559–530 BC, Predecessor : Empire estab...</td>\n",
       "    </tr>\n",
       "    <tr>\n",
       "      <th>4</th>\n",
       "      <td>Alexander the Great</td>\n",
       "      <td>https://en.wikipedia.org/wiki/Alexander_the_Great</td>\n",
       "      <td>https://en.wikipedia.org/wiki/File:Alexander_t...</td>\n",
       "      <td>Reign : 336–323 BC, Predecessor : Philip II, S...</td>\n",
       "    </tr>\n",
       "  </tbody>\n",
       "</table>\n",
       "</div>"
      ],
      "text/plain": [
       "                 names                                                url   \n",
       "0            Hammurabi            https://en.wikipedia.org/wiki/Hammurabi  \\\n",
       "1           Hatshepsut           https://en.wikipedia.org/wiki/Hatshepsut   \n",
       "2          Ramesses II          https://en.wikipedia.org/wiki/Ramesses_II   \n",
       "3      Cyrus the Great      https://en.wikipedia.org/wiki/Cyrus_the_Great   \n",
       "4  Alexander the Great  https://en.wikipedia.org/wiki/Alexander_the_Great   \n",
       "\n",
       "                                               image   \n",
       "0  https://en.wikipedia.org/wiki/File:F0182_Louvr...  \\\n",
       "1  https://en.wikipedia.org/wiki/File:Seated_Stat...   \n",
       "2  https://en.wikipedia.org/wiki/File:Ramses_II_B...   \n",
       "3  https://en.wikipedia.org/wiki/File:Cyrus_II_(T...   \n",
       "4  https://en.wikipedia.org/wiki/File:Alexander_t...   \n",
       "\n",
       "                                         description  \n",
       "0  Reign : c. 1792 – c. 1750 BC (MC), Predecessor...  \n",
       "1  Reign : c. 1478/9 – 1458 BC, Predecessor : Thu...  \n",
       "2  Reign : 1279–1213 BC, Predecessor : Seti I, Su...  \n",
       "3  Reign : 559–530 BC, Predecessor : Empire estab...  \n",
       "4  Reign : 336–323 BC, Predecessor : Philip II, S...  "
      ]
     },
     "execution_count": 158,
     "metadata": {},
     "output_type": "execute_result"
    }
   ],
   "source": [
    "people_df[0:5]"
   ]
  },
  {
   "cell_type": "code",
   "execution_count": null,
   "metadata": {},
   "outputs": [],
   "source": []
  },
  {
   "cell_type": "code",
   "execution_count": null,
   "metadata": {},
   "outputs": [],
   "source": []
  }
 ],
 "metadata": {
  "kernelspec": {
   "display_name": "Python 3",
   "language": "python",
   "name": "python3"
  },
  "language_info": {
   "codemirror_mode": {
    "name": "ipython",
    "version": 3
   },
   "file_extension": ".py",
   "mimetype": "text/x-python",
   "name": "python",
   "nbconvert_exporter": "python",
   "pygments_lexer": "ipython3",
   "version": "3.11.3"
  },
  "orig_nbformat": 4
 },
 "nbformat": 4,
 "nbformat_minor": 2
}
